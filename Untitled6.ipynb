{
  "nbformat": 4,
  "nbformat_minor": 0,
  "metadata": {
    "colab": {
      "provenance": []
    },
    "kernelspec": {
      "name": "python3",
      "display_name": "Python 3"
    },
    "language_info": {
      "name": "python"
    }
  },
  "cells": [
    {
      "cell_type": "code",
      "execution_count": 1,
      "metadata": {
        "colab": {
          "base_uri": "https://localhost:8080/"
        },
        "id": "w1SmfcCKquS-",
        "outputId": "b6cfcbba-ec5c-4c9f-9de8-54a3b86ab30c"
      },
      "outputs": [
        {
          "output_type": "stream",
          "name": "stdout",
          "text": [
            "getter method called\n",
            "jitu\n",
            "setter method called\n",
            "getter method called\n",
            "jiban\n",
            "getter mode called\n",
            "10\n",
            "setter mode called\n",
            "getter mode called\n",
            "25\n"
          ]
        }
      ],
      "source": [
        "class student:\n",
        "    def __init__(self,name=\"jitu\",roll=10):\n",
        "        self.__name=name\n",
        "        self.__roll=roll\n",
        "\n",
        "    def get_name(self):\n",
        "        print(\"getter method called\")\n",
        "        return self.__name\n",
        "    def set_name(self,x):\n",
        "        print(\"setter method called\")\n",
        "        self.__name=x\n",
        "    def get_roll(self):\n",
        "        print(\"getter mode called\")\n",
        "        return self.__roll\n",
        "    def set_roll(self,y):\n",
        "        print(\"setter mode called\")\n",
        "        self.__roll=y\n",
        "\n",
        "w=student()\n",
        "print(w.get_name())\n",
        "w.set_name(\"jiban\")\n",
        "print(w.get_name())\n",
        "print(w.get_roll())\n",
        "w.set_roll(25)\n",
        "print(w.get_roll())\n"
      ]
    }
  ]
}