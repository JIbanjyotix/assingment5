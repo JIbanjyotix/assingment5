{
  "nbformat": 4,
  "nbformat_minor": 0,
  "metadata": {
    "colab": {
      "provenance": []
    },
    "kernelspec": {
      "name": "python3",
      "display_name": "Python 3"
    },
    "language_info": {
      "name": "python"
    }
  },
  "cells": [
    {
      "cell_type": "code",
      "execution_count": 1,
      "metadata": {
        "colab": {
          "base_uri": "https://localhost:8080/"
        },
        "id": "WpTXndKJrBln",
        "outputId": "5d8102c7-0aec-4f74-cd69-283664611a66"
      },
      "outputs": [
        {
          "output_type": "stream",
          "name": "stdout",
          "text": [
            "title is: asish\n",
            "account balance is: 5000\n",
            "intrest rate is: 5\n"
          ]
        }
      ],
      "source": [
        "class account:\n",
        "    def __init__(self,title=\"none\",balance=0):\n",
        "        self.title=title\n",
        "        self.balance=balance\n",
        "        print(\"title is:\",self.title)\n",
        "        print(\"account balance is:\",self.balance)\n",
        "\n",
        "class savings_account(account):\n",
        "    def __init__(self,intrestRate=0):\n",
        "        self.intrestRate=intrestRate\n",
        "        print(\"intrest rate is:\",self.intrestRate)\n",
        "        \n",
        "\n",
        "x=account(\"asish\",5000)\n",
        "y=savings_account(5)"
      ]
    }
  ]
}