{
  "nbformat": 4,
  "nbformat_minor": 0,
  "metadata": {
    "colab": {
      "provenance": []
    },
    "kernelspec": {
      "name": "python3",
      "display_name": "Python 3"
    },
    "language_info": {
      "name": "python"
    }
  },
  "cells": [
    {
      "cell_type": "code",
      "execution_count": 1,
      "metadata": {
        "colab": {
          "base_uri": "https://localhost:8080/"
        },
        "id": "3nvSeQReqZxL",
        "outputId": "380bc5b4-36df-4539-956e-708f79900eb0"
      },
      "outputs": [
        {
          "output_type": "stream",
          "name": "stdout",
          "text": [
            "104\n",
            "84\n",
            "940\n",
            "9.4\n"
          ]
        }
      ],
      "source": [
        "class calculator:\n",
        "    def __init__(self,x,y):\n",
        "        self.x=x\n",
        "        self.y=y\n",
        "    def add(self):\n",
        "        return (self.x+self.y)\n",
        "    def substract(self):\n",
        "        return (self.y-self.x)\n",
        "    def multiply(self):\n",
        "        return (self.x*self.y)\n",
        "    def divide(self):\n",
        "        return float(self.y/self.x)\n",
        "obj=calculator(10,94)\n",
        "print(obj.add())\n",
        "print(obj.substract())\n",
        "print(obj.multiply())\n",
        "print(obj.divide())"
      ]
    }
  ]
}