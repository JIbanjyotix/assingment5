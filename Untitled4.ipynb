{
  "nbformat": 4,
  "nbformat_minor": 0,
  "metadata": {
    "colab": {
      "provenance": []
    },
    "kernelspec": {
      "name": "python3",
      "display_name": "Python 3"
    },
    "language_info": {
      "name": "python"
    }
  },
  "cells": [
    {
      "cell_type": "code",
      "execution_count": 1,
      "metadata": {
        "colab": {
          "base_uri": "https://localhost:8080/"
        },
        "id": "hhByDf_9p7Ms",
        "outputId": "d061ec93-6e20-4ca1-f8cf-4c8af08b3bde"
      },
      "outputs": [
        {
          "output_type": "stream",
          "name": "stdout",
          "text": [
            "35\n"
          ]
        }
      ],
      "source": [
        "class sq_sum:\n",
        "    def __init__(self,x,y,z):\n",
        "        self.x=x\n",
        "        self.y=y\n",
        "        self.z=z\n",
        "    def square_sum(self):\n",
        "        return ((self.x*self.x)+(self.y*self.y)+(self.z*self.z))\n",
        "w=sq_sum(1,3,5)\n",
        "print(w.square_sum())"
      ]
    }
  ]
}