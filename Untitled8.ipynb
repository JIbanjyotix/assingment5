{
  "nbformat": 4,
  "nbformat_minor": 0,
  "metadata": {
    "colab": {
      "provenance": []
    },
    "kernelspec": {
      "name": "python3",
      "display_name": "Python 3"
    },
    "language_info": {
      "name": "python"
    }
  },
  "cells": [
    {
      "cell_type": "code",
      "execution_count": 1,
      "metadata": {
        "colab": {
          "base_uri": "https://localhost:8080/"
        },
        "id": "lI4dNKv9rQiq",
        "outputId": "09e28636-0a1a-4b4b-856b-f01838df364b"
      },
      "outputs": [
        {
          "output_type": "stream",
          "name": "stdout",
          "text": [
            "balance is: 2000\n",
            "2000\n"
          ]
        }
      ],
      "source": [
        "class account:\n",
        "    def __init__(self,title=\"none\",balance=0):\n",
        "        self.title=title\n",
        "        self.balance=balance\n",
        "        print(\"balance is:\",self.balance)\n",
        "    def get_balance(self):\n",
        "        return self.balance\n",
        "    def deposit(self):\n",
        "        reurn \n",
        "        \n",
        "\n",
        "x=account(\"asish\",2000)\n",
        "print(x.get_balance())\n",
        "        \n",
        "class savings_account(account):\n",
        "    def __init__(self,intrestRate=0):\n",
        "        self.intrestRate=intrestRate"
      ]
    }
  ]
}